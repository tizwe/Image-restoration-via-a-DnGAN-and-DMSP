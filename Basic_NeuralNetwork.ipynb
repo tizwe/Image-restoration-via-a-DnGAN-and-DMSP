{
  "nbformat": 4,
  "nbformat_minor": 0,
  "metadata": {
    "colab": {
      "name": "Basic_NeuralNetwork.ipynb",
      "provenance": [],
      "collapsed_sections": [
        "ZTshDF-Sdv6q"
      ],
      "authorship_tag": "ABX9TyNoMTPuBIz+vi7lEq5NRSrW",
      "include_colab_link": true
    },
    "kernelspec": {
      "name": "python3",
      "display_name": "Python 3"
    }
  },
  "cells": [
    {
      "cell_type": "markdown",
      "metadata": {
        "id": "view-in-github",
        "colab_type": "text"
      },
      "source": [
        "<a href=\"https://colab.research.google.com/github/tizwe/Image-restoration-via-a-DnGAN-and-DMSP/blob/main/Basic_NeuralNetwork.ipynb\" target=\"_parent\"><img src=\"https://colab.research.google.com/assets/colab-badge.svg\" alt=\"Open In Colab\"/></a>"
      ]
    },
    {
      "cell_type": "code",
      "metadata": {
        "id": "8KpvAgD4LdAZ"
      },
      "source": [
        "\"\"\"\n",
        "By Tizian Weber \n",
        "Can be used and shared freely. \n",
        "\"\"\"\n",
        "\n",
        "import matplotlib.pyplot as plt\n",
        "import random \n",
        "import numpy as np \n",
        "\n",
        "# define centers of the classes\n",
        "c1_1=[1.5,1.5]    #center 1 of class 1\n",
        "c1_2=[0,-1]       #center 2 of class 1\n",
        "c2=[1.2,0]        #center of class 2\n",
        "\n",
        "# parameters\n",
        "n_samples=1000\n",
        "cluster1=[]\n",
        "cluster2=[]\n",
        "sigma=0.6\n",
        "\n",
        "\n",
        "\"\"\"\n",
        "Create instances of the classes.\n",
        "Those are are normally distributed around their centers. \n",
        "In the third axes we save their class. \n",
        "--> (x1,x2,c)\n",
        "\"\"\"\n",
        "for i in range(n_samples):\n",
        "  new_sample1=random.choice([c1_1,c1_2])+np.random.normal(size=2)*sigma\n",
        "  new_sample1=np.append(new_sample1,0)\n",
        "\n",
        "  new_sample2=c2+np.random.normal(size=2)*sigma\n",
        "  new_sample2=np.append(new_sample2,1)\n",
        "\n",
        "  cluster1.append(new_sample1)\n",
        "  cluster2.append(new_sample2)\n",
        "\n",
        "# concatenate data and shuffle\n",
        "data=np.concatenate((cluster1,cluster2))\n",
        "np.random.shuffle(data)\n",
        "\n"
      ],
      "execution_count": 1,
      "outputs": []
    },
    {
      "cell_type": "code",
      "metadata": {
        "id": "C_CZVcushTEi",
        "colab": {
          "base_uri": "https://localhost:8080/",
          "height": 279
        },
        "outputId": "7a472f80-d83a-45c6-a299-e2ebcf82a412"
      },
      "source": [
        "# visualization of the data \n",
        "\n",
        "plt.scatter(*zip(*np.array(cluster2)[:,0:2]),label='Klasse 1')\n",
        "plt.scatter(*zip(*np.array(cluster1)[:,0:2]),label='Klasse 0 ')\n",
        "plt.legend(loc='upper left')\n",
        "plt.xlabel('x')\n",
        "plt.ylabel('y')\n",
        "plt.show()\n"
      ],
      "execution_count": 2,
      "outputs": [
        {
          "output_type": "display_data",
          "data": {
            "image/png": "[encoded data removed]",
            "text/plain": [
              "<Figure size 432x288 with 1 Axes>"
            ]
          },
          "metadata": {
            "tags": [],
            "needs_background": "light"
          }
        }
      ]
    },
    {
      "cell_type": "code",
      "metadata": {
        "id": "V0jNLnUeRmjz"
      },
      "source": [
        "# Actiation functions and their derivative\n",
        "def sigmoid(x):\n",
        "    return 1/(1+np.exp(-x))\n",
        "\n",
        "def sigmoid_p(x):\n",
        "    return sigmoid(x) * (1-sigmoid(x))\n",
        "\n",
        "def tanh(x):\n",
        "    return np.tanh(x)\n",
        "\n",
        "def tanh_p(x):\n",
        "    return 1-np.square(tanh(x))\n"
      ],
      "execution_count": 3,
      "outputs": []
    },
    {
      "cell_type": "markdown",
      "metadata": {
        "id": "ZTshDF-Sdv6q"
      },
      "source": [
        "#Training (1 Hidden-Layer)\n"
      ]
    },
    {
      "cell_type": "code",
      "metadata": {
        "id": "4mSUcs3PR0oG"
      },
      "source": [
        "hist=[]\n",
        "def train(dta, lr):\n",
        "    #random init of weights\n",
        "    w1 = np.random.randn()\n",
        "    w2 = np.random.randn()\n",
        "    b = np.random.randn()\n",
        "    \n",
        "    iterations = 3000\n",
        "    learning_rate = lr\n",
        "    data=dta\n",
        "    costs = [] # keep costs during training, see if they go down\n",
        "   \n",
        "    for i in range(iterations):\n",
        "        # get a random point\n",
        "        ri = np.random.randint(len(data))\n",
        "        point = data[ri]\n",
        "        z = point[0] * w1 + point[1] * w2 + b\n",
        "        pred = sigmoid(z) # networks prediction\n",
        "        \n",
        "        target = point[2]\n",
        "        \n",
        "        # cost for current random point\n",
        "        cost = np.square(pred - target)\n",
        "\n",
        "        c=0\n",
        "        global freq\n",
        "        freq=50\n",
        "        for p in data: \n",
        "            p_pred = sigmoid(w1 * p[0] + w2 * p[1] + b)\n",
        "            c += np.square(p_pred - p[2])\n",
        "        hist.append(c)\n",
        "\n",
        "\n",
        "        # calculate the cost over all data points every freq iterations\n",
        "        if i % freq == 0:\n",
        "            c = 0\n",
        "            for p in data:\n",
        "                p_pred = sigmoid(w1 * p[0] + w2 * p[1] + b)\n",
        "                c += np.square(p_pred - p[2])\n",
        "            costs.append(c)\n",
        "        \n",
        "        dcost_dpred = 2 * (pred - target)\n",
        "        dpred_dz = sigmoid_p(z)\n",
        "        \n",
        "        dz_dw1 = point[0]\n",
        "        dz_dw2 = point[1]\n",
        "        dz_db = 1\n",
        "        \n",
        "        dcost_dz = dcost_dpred * dpred_dz\n",
        "        \n",
        "        dcost_dw1 = dcost_dz * dz_dw1\n",
        "        dcost_dw2 = dcost_dz * dz_dw2\n",
        "        dcost_db = dcost_dz * dz_db\n",
        "        \n",
        "        w1 = w1 - learning_rate * dcost_dw1\n",
        "        w2 = w2 - learning_rate * dcost_dw2\n",
        "        b = b - learning_rate * dcost_db\n",
        "        \n",
        "    return costs, w1, w2, b"
      ],
      "execution_count": 35,
      "outputs": []
    },
    {
      "cell_type": "code",
      "metadata": {
        "colab": {
          "base_uri": "https://localhost:8080/"
        },
        "id": "1TjMvO_9Uvqf",
        "outputId": "74719821-c1f2-41a8-e78d-b513cffa3746"
      },
      "source": [
        "#Training for different learn rates\n",
        "a=train(data,0.03)\n",
        "print('a fertig!')\n",
        "b=train(data,0.3)\n",
        "print('b fertig!')\n",
        "c=train(data,1.5)\n",
        "print('c fertig!')"
      ],
      "execution_count": 36,
      "outputs": [
        {
          "output_type": "stream",
          "text": [
            "a fertig!\n",
            "b fertig!\n",
            "c fertig!\n"
          ],
          "name": "stdout"
        }
      ]
    },
    {
      "cell_type": "markdown",
      "metadata": {
        "id": "M96_rrg7MlIB"
      },
      "source": [
        "#Training (2 Hidden-Layers)\n",
        "\n",
        "\n"
      ]
    },
    {
      "cell_type": "code",
      "metadata": {
        "id": "UnP5hAnCMiQG"
      },
      "source": [
        "def train(dta,lr):\n",
        "    \n",
        "    #random init of weights\n",
        "\n",
        "    wscale=1 # Scale the starting weights\n",
        "    w1 = np.random.randn()*wscale\n",
        "    w2 = np.random.randn()*wscale\n",
        "    v1 = np.random.randn()*wscale\n",
        "    v2 = np.random.randn()*wscale\n",
        "    b1 = np.random.randn()*wscale\n",
        "    b2 = np.random.randn()*wscale\n",
        "    b3 = np.random.randn()*wscale\n",
        "    u1 = np.random.randn()*wscale\n",
        "    u2 = np.random.randn()*wscale\n",
        "    \n",
        "    cost_hist = [] \n",
        "\n",
        "    iterations = 3000\n",
        "    learning_rate = lr\n",
        "\n",
        "    #Stochastic Gradient Descnet\n",
        "    for i in range(iterations):\n",
        "        # Take a random data point\n",
        "        ri = np.random.randint(len(dta))\n",
        "        point = dta[ri]\n",
        "\n",
        "        hidden1 = point[0] * w1 + point[1] * w2 + b1 \n",
        "        hidden2 = point[0] * v1 + point[1] * v2 + b2\n",
        "        z=u1*tanh(hidden1)+u2*tanh(hidden2)+b3\n",
        "\n",
        "        pred = sigmoid(z) # network prediction\n",
        "        \n",
        "        target = point[2]\n",
        "\n",
        "        ###\n",
        "        \n",
        "        # Calculate and save the global loss over all points \n",
        "        # Not relevant for the training (can be commented out )\n",
        "        # Makes up for the most of the training time !\n",
        "\n",
        "        c=0\n",
        "        global freq\n",
        "        freq=50 # calculate the cost over all data points every freq iteratios\n",
        "        if i%freq==0:\n",
        "          for p in data: \n",
        "              p_pred = sigmoid( u1*tanh((w1 * p[0] + w2 * p[1] + b1)) + \n",
        "                                u2*tanh((v1 * p[0] + v2 * p[1] +b2 ))+b3)\n",
        "              c += np.square(p_pred - p[2])\n",
        "          cost_hist.append(c/data.shape[0])\n",
        "          \n",
        "        ###\n",
        "\n",
        "        # Cost for the current point\n",
        "        cost = np.square(pred - target)\n",
        "\n",
        "        # Calculate the graient by using the chain rule\n",
        "\n",
        "        dcost_dpred = 2*(pred - target)\n",
        "        dpred_dz = sigmoid_p(z)\n",
        "        \n",
        "        dz_du1  = tanh(hidden1)\n",
        "        dz_du2  = tanh(hidden2)\n",
        "        dz_dhidden1  = u1*tanh_p(hidden1)\n",
        "        dz_dhidden2  = u2*tanh_p(hidden2)\n",
        "        dhidden1_dw1 = point[0]\n",
        "        dhidden1_dw2 = point[1]\n",
        "        dhidden2_dv1 = point[0]\n",
        "        dhidden2_dv2 = point[1]\n",
        "        dhidden1_db1 = 1\n",
        "        dhidden2_db2 = 1\n",
        "        dz_db3= 1\n",
        "\n",
        "        dcost_dz = dcost_dpred * dpred_dz\n",
        "        dcost_dw1 = dcost_dz * dz_dhidden1 *dhidden1_dw1 \n",
        "        dcost_dw2 = dcost_dz * dz_dhidden1 *dhidden1_dw2\n",
        "        dcost_db1 = dcost_dz * dz_dhidden1 *dhidden1_db1   \n",
        "        dcost_dv1 = dcost_dz * dz_dhidden2 *dhidden2_dv1 \n",
        "        dcost_dv2 = dcost_dz * dz_dhidden2 *dhidden2_dv2  \n",
        "        dcost_db2 = dcost_dz * dz_dhidden2 *dhidden2_db2\n",
        "        dcost_du1 = dcost_dz*  dz_du1\n",
        "        dcost_du2 = dcost_dz*  dz_du2\n",
        "        dcost_db3 = dcost_dz*  dz_db3\n",
        "\n",
        "\n",
        "        #Update the parameters\n",
        "        w1 = w1 - learning_rate * dcost_dw1\n",
        "        w2 = w2 - learning_rate * dcost_dw2\n",
        "        v1 = v1 - learning_rate * dcost_dv1\n",
        "        v2 = v2 - learning_rate * dcost_dv2\n",
        "        b1 = b1 - learning_rate * dcost_db1\n",
        "        b2 = b2 - learning_rate * dcost_db2\n",
        "        b3 = b3 - learning_rate * dcost_db3\n",
        "        u1 = u1 - learning_rate * dcost_du1\n",
        "        u2 = u2 - learning_rate * dcost_du2\n",
        "        \n",
        "    # return cost and network parameters\n",
        "    return cost_hist, w1, w2,v1,v2, b1,b2,b3,u1,u2"
      ],
      "execution_count": 44,
      "outputs": []
    },
    {
      "cell_type": "code",
      "metadata": {
        "id": "3JpEvR1jHzUm",
        "colab": {
          "base_uri": "https://localhost:8080/"
        },
        "outputId": "3cfbf9be-c86e-4159-9a2a-4ba3bfa0b00e"
      },
      "source": [
        "#Training for different learn rates\n",
        "a=train(data,0.03)\n",
        "print('a finished!')\n",
        "b=train(data,0.3)\n",
        "print('b finished!')\n",
        "c=train(data,1.5)\n",
        "print('c finished!')\n",
        "\n"
      ],
      "execution_count": 45,
      "outputs": [
        {
          "output_type": "stream",
          "text": [
            "a fertig!\n",
            "b fertig!\n",
            "c fertig!\n"
          ],
          "name": "stdout"
        }
      ]
    },
    {
      "cell_type": "markdown",
      "metadata": {
        "id": "P0S3BTL8dwr5"
      },
      "source": [
        "# Results\n"
      ]
    },
    {
      "cell_type": "code",
      "metadata": {
        "id": "BdB4jVgtF0Al",
        "colab": {
          "base_uri": "https://localhost:8080/",
          "height": 279
        },
        "outputId": "4e451948-1589-4fb5-bedd-cf12c7046431"
      },
      "source": [
        "# Compare training history of different learn rates\n",
        "# Due to the stochastic nature of our learning algorithm, this may vary.\n",
        "\n",
        "plt.plot(c[0],label='lr=1.5',color='pink')\n",
        "plt.plot(b[0],label='lr=0.3')\n",
        "plt.plot(a[0],label='lr=0.03')\n",
        "plt.legend(loc='upper left')\n",
        "plt.xlabel('Iteration / '+str(freq))\n",
        "plt.ylabel('Mittlere Quadrat. Abweichung')\n",
        "plt.show()\n",
        "\n",
        "# We will procced with 'b'"
      ],
      "execution_count": 47,
      "outputs": [
        {
          "output_type": "display_data",
          "data": {
            "image/png": "[encoded data removed]",
            "text/plain": [
              "<Figure size 432x288 with 1 Axes>"
            ]
          },
          "metadata": {
            "tags": [],
            "needs_background": "light"
          }
        }
      ]
    },
    {
      "cell_type": "code",
      "metadata": {
        "id": "pZFTMKkkP6vN"
      },
      "source": [
        "# Define the prediciton function \n",
        "\n",
        "def predc(p,param):\n",
        "  if len(param)==10:   #Check whether 2-layer or 1-layer network was trained\n",
        "    _, w1, w2,v1,v2, b1,b2,b3,u1,u2 = param\n",
        "    return sigmoid( u1*tanh((w1 * p[0] + w2 * p[1] + b1)) + \n",
        "             u2*tanh((v1 * p[0] + v2 * p[1] +b2 ))+b3)\n",
        "  elif len(param)==4:\n",
        "    _, w1, w2, b = param\n",
        "    return sigmoid(w1 * p[0] + w2 * p[1] + b)\n",
        "  else:\n",
        "    print('Please train a network first')"
      ],
      "execution_count": 48,
      "outputs": []
    },
    {
      "cell_type": "markdown",
      "metadata": {
        "id": "j4GXkaVBX7A4"
      },
      "source": [
        "# Visualize the results"
      ]
    },
    {
      "cell_type": "code",
      "metadata": {
        "id": "XUBhSbZ4eq45",
        "colab": {
          "base_uri": "https://localhost:8080/",
          "height": 314
        },
        "outputId": "0401a222-84dd-42d9-cd86-fcb06916645b"
      },
      "source": [
        "#The visulaziation was inspired by https://playground.tensorflow.org/\n",
        "\"\"\"\n",
        "For a given point, the network outputs a value in [0,1].\n",
        "This value can be interpreted as the estimated propability that \n",
        "the point belong to class 1. \n",
        "e.g. network(p)= 0.8 ==> The network thinks that p belongs to class 1 to 80% \n",
        "The rounded value gives the predicted class. \n",
        "\"\"\"\n",
        "\n",
        "cluster1=[]\n",
        "cluster2=[]\n",
        "\n",
        "print('Light colored poitn have a value between 0.25 and 0.75')\n",
        "print('The network is uncertain about the true class of those points')\n",
        "\n",
        "\n",
        "# Create new instances of the classes and predict their class\n",
        "for i in range(int(n_samples)):\n",
        "  new_sample1 =random.choice([c1_1,c1_2])+np.random.normal(size=2)*sigma\n",
        "  prediction=np.floor(4*predc(new_sample1,b))\n",
        "  new_sample1=np.append(new_sample1,prediction)\n",
        "\n",
        "  new_sample2=c2+np.random.normal(size=2)*sigma\n",
        "  prediction=np.floor(4*predc(new_sample2,b))\n",
        "  new_sample2=np.append(new_sample2,prediction)\n",
        "\n",
        "  cluster1.append(new_sample1)\n",
        "  cluster2.append(new_sample2)\n",
        "\n",
        "data1=np.concatenate((cluster1,cluster2))\n",
        "np.random.shuffle(data1)\n",
        "dta=[[],[],[],[]]\n",
        "for d in data1: \n",
        "  dta[min(int(d[2]),3)].append(d[0:2])\n",
        "try:\n",
        "  plt.scatter(*zip(*np.array(dta[0])),c='darkblue')\n",
        "except:\n",
        "  pass\n",
        "try:\n",
        "  plt.scatter(*zip(*np.array(dta[1])),c='lightblue')\n",
        "except:\n",
        "  pass\n",
        "try:\n",
        "  plt.scatter(*zip(*np.array(dta[2])),c='moccasin')\n",
        "except:\n",
        "  pass\n",
        "try:\n",
        "  plt.scatter(*zip(*np.array(dta[3])),c='orange')\n",
        "except:\n",
        "  pass\n",
        "\n",
        "\n",
        "plt.xlabel('x')\n",
        "plt.ylabel('y')\n",
        "plt.show()"
      ],
      "execution_count": 63,
      "outputs": [
        {
          "output_type": "stream",
          "text": [
            "Light colored poitn have a value between 0.25 and 0.75\n",
            "The network is uncertain about the true class of those points\n"
          ],
          "name": "stdout"
        },
        {
          "output_type": "display_data",
          "data": {
            "image/png": "[encoded data removed]",
            "text/plain": [
              "<Figure size 432x288 with 1 Axes>"
            ]
          },
          "metadata": {
            "tags": [],
            "needs_background": "light"
          }
        }
      ]
    },
    {
      "cell_type": "code",
      "metadata": {
        "id": "cacKs06Vp7kh",
        "colab": {
          "base_uri": "https://localhost:8080/",
          "height": 314
        },
        "outputId": "f7ea0c93-00b0-409e-ecec-4dfe1162afaf"
      },
      "source": [
        "print('Points in the blue zones are predicted as class 0 by the network;')\n",
        "print('those in the orange zone as class 1')\n",
        "\n",
        "cluster1=[]\n",
        "cluster2=[]\n",
        "gt=[]\n",
        "x = np.arange(-4.5, 4.5, 0.05)\n",
        "y = np.arange(-3.5, 4.5, 0.05)\n",
        "X,Y = np.meshgrid(x,y)\n",
        "gt=np.array([X.flatten(),Y.flatten()]).T\n",
        "for i in gt:\n",
        "  prediction=np.floor(4*predc(i,b))\n",
        "  new_sample1=np.append(i,prediction)\n",
        "  cluster1.append(new_sample1)\n",
        "data1=cluster1\n",
        "np.random.shuffle(data1)\n",
        "dta=[[],[],[],[]]\n",
        "for d in data1: \n",
        "  dta[min(int(d[2]),3)].append(d[0:2])\n",
        "\n",
        "plt.scatter(*zip(*np.array(dta[0])),c='darkblue')\n",
        "plt.scatter(*zip(*np.array(dta[1])),c='lightblue')\n",
        "plt.scatter(*zip(*np.array(dta[2])),c='moccasin')\n",
        "plt.scatter(*zip(*np.array(dta[3])),c='orange')\n",
        "\n",
        "cluster1=[]\n",
        "cluster2=[]\n",
        "for i in range(int(n_samples)):\n",
        "  new_sample1 =random.choice([c1_1,c1_2])+np.random.normal(size=2)*sigma\n",
        "  new_sample1=np.append(new_sample1,0)\n",
        "  new_sample2=c2+np.random.normal(size=2)*sigma\n",
        "  prediction=np.floor(4*predc(new_sample2,a))\n",
        "  new_sample2=np.append(new_sample2,1)\n",
        "  cluster1.append(new_sample1)\n",
        "  cluster2.append(new_sample2)\n",
        "data1=np.concatenate((cluster1,cluster2))\n",
        "np.random.shuffle(data1)\n",
        "dta=[[],[],[],[]]\n",
        "for d in data1: \n",
        "  dta[min(int(d[2]),3)].append(d[0:2])\n",
        "\n",
        "plt.scatter(*zip(*np.array(dta[0])),c='lightcoral',label='Class 0')\n",
        "plt.scatter(*zip(*np.array(dta[1])),c='lime',label='Class 1')\n",
        "\n",
        "plt.xlabel('x')\n",
        "plt.ylabel('y')\n",
        "plt.legend(loc='upper left')\n",
        "plt.show()\n",
        "\n"
      ],
      "execution_count": 61,
      "outputs": [
        {
          "output_type": "stream",
          "text": [
            "Points in the blue zones are predicted as class 0 by the network;\n",
            "those in the orange zone as class 1\n"
          ],
          "name": "stdout"
        },
        {
          "output_type": "display_data",
          "data": {
            "image/png": "[encoded data removed]",
            "text/plain": [
              "<Figure size 432x288 with 1 Axes>"
            ]
          },
          "metadata": {
            "tags": [],
            "needs_background": "light"
          }
        }
      ]
    },
    {
      "cell_type": "code",
      "metadata": {
        "id": "rooLwQp0KtNq",
        "colab": {
          "base_uri": "https://localhost:8080/"
        },
        "outputId": "20d29be0-b66e-477d-b356-a8145245a6c5"
      },
      "source": [
        "# Get the accuracy of the network\n",
        "\n",
        "cor=0\n",
        "flse=0\n",
        "for q,n in zip(cluster1,range(1000)): \n",
        "  if np.round(q[2]/4) == 0:\n",
        "    cor+=1\n",
        "  else:\n",
        "    flse+=1\n",
        "for q in cluster2: \n",
        "  if np.round(q[2]/4) == 1:\n",
        "    cor+=1\n",
        "  else:\n",
        "    flse+=1\n",
        "\n",
        "print(cor/(cor+flse),'% of the network estimations were correct')\n"
      ],
      "execution_count": 64,
      "outputs": [
        {
          "output_type": "stream",
          "text": [
            "0.8095 % of the network estimations were correct\n"
          ],
          "name": "stdout"
        }
      ]
    }
  ]
}